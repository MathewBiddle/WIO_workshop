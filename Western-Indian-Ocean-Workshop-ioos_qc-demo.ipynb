{
 "cells": [
  {
   "cell_type": "markdown",
   "metadata": {
    "slideshow": {
     "slide_type": "slide"
    }
   },
   "source": [
    "<h1 style=\"text-align: center;\">IOOS QARTOD software (ioos_qc)</h1>\n",
    "\n",
    "---\n",
    "![image.png](https://cdn.ioos.noaa.gov/media/2019/05/qartodlogo2.jpg)\n",
    "\n",
    "\n",
    "\n",
    "<p style=\"text-align: center;\">\n",
    "    Mathew Biddle<br>\n",
    "    mathew.biddle@noaa.gov<br>\n",
    "    <a href=\"https://orcid.org/0000-0003-4897-1669\">https://orcid.org/0000-0003-4897-1669</a><br>\n",
    "    NOAA/NOS/IOOS<br>\n",
    "</p>\n",
    "\n",
    "<sub>Materials available at <a href=\"https://github.com/MathewBiddle/WIO_workshop\">https://github.com/MathewBiddle/WIO_workshop</a>.</sub>"
   ]
  },
  {
   "cell_type": "markdown",
   "metadata": {
    "slideshow": {
     "slide_type": "slide"
    }
   },
   "source": [
    "This presentation will demonstrate how to [run ``ioos_qc``](https://github.com/ioos/ioos_qc) on a time-series dataset. ``ioos_qc`` implements the [Quality Assurance / Quality Control of Real Time Oceanographic Data (QARTOD)](https://ioos.noaa.gov/project/qartod/)."
   ]
  },
  {
   "cell_type": "markdown",
   "metadata": {
    "slideshow": {
     "slide_type": "subslide"
    }
   },
   "source": [
    "### Key Objectives of QARTOD"
   ]
  },
  {
   "cell_type": "markdown",
   "metadata": {
    "slideshow": {
     "slide_type": "fragment"
    }
   },
   "source": [
    "* Establish authoritative QA/QC procedures for the [U.S. IOOS core variables](http://www.iooc.us/task-teams/core-ioos-variables/), as necessary, including detailed information about the sensors and procedures used to measure the variables."
   ]
  },
  {
   "cell_type": "markdown",
   "metadata": {
    "slideshow": {
     "slide_type": "fragment"
    }
   },
   "source": [
    "* Produce written manuals for these QA/QC procedures"
   ]
  },
  {
   "cell_type": "markdown",
   "metadata": {
    "slideshow": {
     "slide_type": "fragment"
    }
   },
   "source": [
    "* From the list of individual QA/QC procedures and guidelines developed, define a baseline set of QA/QC procedures that can be used for certification of RCOOS data providers"
   ]
  },
  {
   "cell_type": "markdown",
   "metadata": {
    "slideshow": {
     "slide_type": "fragment"
    }
   },
   "source": [
    "* Facilitate QA/QC integration with Global Ocean Observing System (GOOS) and other international ocean observation efforts"
   ]
  },
  {
   "cell_type": "markdown",
   "metadata": {
    "slideshow": {
     "slide_type": "fragment"
    }
   },
   "source": [
    "* Engage the Federal Agencies and IOOS Regions that are part of, or contribute to, US IOOS who will use the established QA/QC procedure"
   ]
  },
  {
   "cell_type": "markdown",
   "metadata": {
    "slideshow": {
     "slide_type": "fragment"
    }
   },
   "source": [
    "* Work efficiently, without duplication of effort, to facilitate the implementation of common QA/QC procedures amongst US IOOS Partners."
   ]
  },
  {
   "cell_type": "markdown",
   "metadata": {
    "slideshow": {
     "slide_type": "slide"
    }
   },
   "source": [
    "## Load data\n",
    "\n",
    "We will be using the water level data from a [fixed station in Kotzebue, AK](https://www.google.com/maps?q=66.895035,-162.566752).\n",
    "\n",
    "![map](http://erddap.aoos.org/erddap/tabledap/kotzebue-alaska-water-level.png?longitude,latitude,z&time%3E=2021-06-23T00%3A00%3A00Z&time%3C=2021-06-30T00%3A00%3A00Z&longitude%3E=-180&longitude%3C=-116&latitude%3E=26&latitude%3C=90&.draw=markers&.marker=5%7C5&.color=0x000000&.colorBar=%7C%7C%7C%7C%7C&.bgColor=0xffccccff)\n",
    "\n",
    "We will get the data from the [AOOS ERDDAP server](http://erddap.aoos.org/erddap/). "
   ]
  },
  {
   "cell_type": "code",
   "execution_count": 1,
   "metadata": {
    "slideshow": {
     "slide_type": "subslide"
    }
   },
   "outputs": [],
   "source": [
    "from erddapy import ERDDAP\n",
    "\n",
    "e = ERDDAP(\n",
    "    server=\"http://erddap.aoos.org/erddap/\",\n",
    "    protocol=\"tabledap\"\n",
    ")\n",
    "\n",
    "e.dataset_id = \"kotzebue-alaska-water-level\"\n",
    "\n",
    "e.constraints = {\n",
    "    \"time>=\": \"2018-09-05T21:00:00Z\",\n",
    "    \"time<=\": \"2019-07-10T19:00:00Z\",\n",
    "}"
   ]
  },
  {
   "cell_type": "markdown",
   "metadata": {
    "slideshow": {
     "slide_type": "subslide"
    }
   },
   "source": [
    "## Return data and metadata"
   ]
  },
  {
   "cell_type": "code",
   "execution_count": 2,
   "metadata": {
    "slideshow": {
     "slide_type": "skip"
    }
   },
   "outputs": [],
   "source": [
    "import json\n",
    "import warnings\n",
    "warnings.filterwarnings('ignore')\n",
    "\n",
    "def nice_print(indict):\n",
    "    return print(json.dumps(indict, indent=2, default=str))"
   ]
  },
  {
   "cell_type": "code",
   "execution_count": 3,
   "metadata": {
    "slideshow": {
     "slide_type": "subslide"
    }
   },
   "outputs": [
    {
     "data": {
      "text/html": [
       "<div><svg style=\"position: absolute; width: 0; height: 0; overflow: hidden\">\n",
       "<defs>\n",
       "<symbol id=\"icon-database\" viewBox=\"0 0 32 32\">\n",
       "<path d=\"M16 0c-8.837 0-16 2.239-16 5v4c0 2.761 7.163 5 16 5s16-2.239 16-5v-4c0-2.761-7.163-5-16-5z\"></path>\n",
       "<path d=\"M16 17c-8.837 0-16-2.239-16-5v6c0 2.761 7.163 5 16 5s16-2.239 16-5v-6c0 2.761-7.163 5-16 5z\"></path>\n",
       "<path d=\"M16 26c-8.837 0-16-2.239-16-5v6c0 2.761 7.163 5 16 5s16-2.239 16-5v-6c0 2.761-7.163 5-16 5z\"></path>\n",
       "</symbol>\n",
       "<symbol id=\"icon-file-text2\" viewBox=\"0 0 32 32\">\n",
       "<path d=\"M28.681 7.159c-0.694-0.947-1.662-2.053-2.724-3.116s-2.169-2.030-3.116-2.724c-1.612-1.182-2.393-1.319-2.841-1.319h-15.5c-1.378 0-2.5 1.121-2.5 2.5v27c0 1.378 1.122 2.5 2.5 2.5h23c1.378 0 2.5-1.122 2.5-2.5v-19.5c0-0.448-0.137-1.23-1.319-2.841zM24.543 5.457c0.959 0.959 1.712 1.825 2.268 2.543h-4.811v-4.811c0.718 0.556 1.584 1.309 2.543 2.268zM28 29.5c0 0.271-0.229 0.5-0.5 0.5h-23c-0.271 0-0.5-0.229-0.5-0.5v-27c0-0.271 0.229-0.5 0.5-0.5 0 0 15.499-0 15.5 0v7c0 0.552 0.448 1 1 1h7v19.5z\"></path>\n",
       "<path d=\"M23 26h-14c-0.552 0-1-0.448-1-1s0.448-1 1-1h14c0.552 0 1 0.448 1 1s-0.448 1-1 1z\"></path>\n",
       "<path d=\"M23 22h-14c-0.552 0-1-0.448-1-1s0.448-1 1-1h14c0.552 0 1 0.448 1 1s-0.448 1-1 1z\"></path>\n",
       "<path d=\"M23 18h-14c-0.552 0-1-0.448-1-1s0.448-1 1-1h14c0.552 0 1 0.448 1 1s-0.448 1-1 1z\"></path>\n",
       "</symbol>\n",
       "</defs>\n",
       "</svg>\n",
       "<style>/* CSS stylesheet for displaying xarray objects in jupyterlab.\n",
       " *\n",
       " */\n",
       "\n",
       ":root {\n",
       "  --xr-font-color0: var(--jp-content-font-color0, rgba(0, 0, 0, 1));\n",
       "  --xr-font-color2: var(--jp-content-font-color2, rgba(0, 0, 0, 0.54));\n",
       "  --xr-font-color3: var(--jp-content-font-color3, rgba(0, 0, 0, 0.38));\n",
       "  --xr-border-color: var(--jp-border-color2, #e0e0e0);\n",
       "  --xr-disabled-color: var(--jp-layout-color3, #bdbdbd);\n",
       "  --xr-background-color: var(--jp-layout-color0, white);\n",
       "  --xr-background-color-row-even: var(--jp-layout-color1, white);\n",
       "  --xr-background-color-row-odd: var(--jp-layout-color2, #eeeeee);\n",
       "}\n",
       "\n",
       "html[theme=dark],\n",
       "body.vscode-dark {\n",
       "  --xr-font-color0: rgba(255, 255, 255, 1);\n",
       "  --xr-font-color2: rgba(255, 255, 255, 0.54);\n",
       "  --xr-font-color3: rgba(255, 255, 255, 0.38);\n",
       "  --xr-border-color: #1F1F1F;\n",
       "  --xr-disabled-color: #515151;\n",
       "  --xr-background-color: #111111;\n",
       "  --xr-background-color-row-even: #111111;\n",
       "  --xr-background-color-row-odd: #313131;\n",
       "}\n",
       "\n",
       ".xr-wrap {\n",
       "  display: block !important;\n",
       "  min-width: 300px;\n",
       "  max-width: 700px;\n",
       "}\n",
       "\n",
       ".xr-text-repr-fallback {\n",
       "  /* fallback to plain text repr when CSS is not injected (untrusted notebook) */\n",
       "  display: none;\n",
       "}\n",
       "\n",
       ".xr-header {\n",
       "  padding-top: 6px;\n",
       "  padding-bottom: 6px;\n",
       "  margin-bottom: 4px;\n",
       "  border-bottom: solid 1px var(--xr-border-color);\n",
       "}\n",
       "\n",
       ".xr-header > div,\n",
       ".xr-header > ul {\n",
       "  display: inline;\n",
       "  margin-top: 0;\n",
       "  margin-bottom: 0;\n",
       "}\n",
       "\n",
       ".xr-obj-type,\n",
       ".xr-array-name {\n",
       "  margin-left: 2px;\n",
       "  margin-right: 10px;\n",
       "}\n",
       "\n",
       ".xr-obj-type {\n",
       "  color: var(--xr-font-color2);\n",
       "}\n",
       "\n",
       ".xr-sections {\n",
       "  padding-left: 0 !important;\n",
       "  display: grid;\n",
       "  grid-template-columns: 150px auto auto 1fr 20px 20px;\n",
       "}\n",
       "\n",
       ".xr-section-item {\n",
       "  display: contents;\n",
       "}\n",
       "\n",
       ".xr-section-item input {\n",
       "  display: none;\n",
       "}\n",
       "\n",
       ".xr-section-item input + label {\n",
       "  color: var(--xr-disabled-color);\n",
       "}\n",
       "\n",
       ".xr-section-item input:enabled + label {\n",
       "  cursor: pointer;\n",
       "  color: var(--xr-font-color2);\n",
       "}\n",
       "\n",
       ".xr-section-item input:enabled + label:hover {\n",
       "  color: var(--xr-font-color0);\n",
       "}\n",
       "\n",
       ".xr-section-summary {\n",
       "  grid-column: 1;\n",
       "  color: var(--xr-font-color2);\n",
       "  font-weight: 500;\n",
       "}\n",
       "\n",
       ".xr-section-summary > span {\n",
       "  display: inline-block;\n",
       "  padding-left: 0.5em;\n",
       "}\n",
       "\n",
       ".xr-section-summary-in:disabled + label {\n",
       "  color: var(--xr-font-color2);\n",
       "}\n",
       "\n",
       ".xr-section-summary-in + label:before {\n",
       "  display: inline-block;\n",
       "  content: '►';\n",
       "  font-size: 11px;\n",
       "  width: 15px;\n",
       "  text-align: center;\n",
       "}\n",
       "\n",
       ".xr-section-summary-in:disabled + label:before {\n",
       "  color: var(--xr-disabled-color);\n",
       "}\n",
       "\n",
       ".xr-section-summary-in:checked + label:before {\n",
       "  content: '▼';\n",
       "}\n",
       "\n",
       ".xr-section-summary-in:checked + label > span {\n",
       "  display: none;\n",
       "}\n",
       "\n",
       ".xr-section-summary,\n",
       ".xr-section-inline-details {\n",
       "  padding-top: 4px;\n",
       "  padding-bottom: 4px;\n",
       "}\n",
       "\n",
       ".xr-section-inline-details {\n",
       "  grid-column: 2 / -1;\n",
       "}\n",
       "\n",
       ".xr-section-details {\n",
       "  display: none;\n",
       "  grid-column: 1 / -1;\n",
       "  margin-bottom: 5px;\n",
       "}\n",
       "\n",
       ".xr-section-summary-in:checked ~ .xr-section-details {\n",
       "  display: contents;\n",
       "}\n",
       "\n",
       ".xr-array-wrap {\n",
       "  grid-column: 1 / -1;\n",
       "  display: grid;\n",
       "  grid-template-columns: 20px auto;\n",
       "}\n",
       "\n",
       ".xr-array-wrap > label {\n",
       "  grid-column: 1;\n",
       "  vertical-align: top;\n",
       "}\n",
       "\n",
       ".xr-preview {\n",
       "  color: var(--xr-font-color3);\n",
       "}\n",
       "\n",
       ".xr-array-preview,\n",
       ".xr-array-data {\n",
       "  padding: 0 5px !important;\n",
       "  grid-column: 2;\n",
       "}\n",
       "\n",
       ".xr-array-data,\n",
       ".xr-array-in:checked ~ .xr-array-preview {\n",
       "  display: none;\n",
       "}\n",
       "\n",
       ".xr-array-in:checked ~ .xr-array-data,\n",
       ".xr-array-preview {\n",
       "  display: inline-block;\n",
       "}\n",
       "\n",
       ".xr-dim-list {\n",
       "  display: inline-block !important;\n",
       "  list-style: none;\n",
       "  padding: 0 !important;\n",
       "  margin: 0;\n",
       "}\n",
       "\n",
       ".xr-dim-list li {\n",
       "  display: inline-block;\n",
       "  padding: 0;\n",
       "  margin: 0;\n",
       "}\n",
       "\n",
       ".xr-dim-list:before {\n",
       "  content: '(';\n",
       "}\n",
       "\n",
       ".xr-dim-list:after {\n",
       "  content: ')';\n",
       "}\n",
       "\n",
       ".xr-dim-list li:not(:last-child):after {\n",
       "  content: ',';\n",
       "  padding-right: 5px;\n",
       "}\n",
       "\n",
       ".xr-has-index {\n",
       "  font-weight: bold;\n",
       "}\n",
       "\n",
       ".xr-var-list,\n",
       ".xr-var-item {\n",
       "  display: contents;\n",
       "}\n",
       "\n",
       ".xr-var-item > div,\n",
       ".xr-var-item label,\n",
       ".xr-var-item > .xr-var-name span {\n",
       "  background-color: var(--xr-background-color-row-even);\n",
       "  margin-bottom: 0;\n",
       "}\n",
       "\n",
       ".xr-var-item > .xr-var-name:hover span {\n",
       "  padding-right: 5px;\n",
       "}\n",
       "\n",
       ".xr-var-list > li:nth-child(odd) > div,\n",
       ".xr-var-list > li:nth-child(odd) > label,\n",
       ".xr-var-list > li:nth-child(odd) > .xr-var-name span {\n",
       "  background-color: var(--xr-background-color-row-odd);\n",
       "}\n",
       "\n",
       ".xr-var-name {\n",
       "  grid-column: 1;\n",
       "}\n",
       "\n",
       ".xr-var-dims {\n",
       "  grid-column: 2;\n",
       "}\n",
       "\n",
       ".xr-var-dtype {\n",
       "  grid-column: 3;\n",
       "  text-align: right;\n",
       "  color: var(--xr-font-color2);\n",
       "}\n",
       "\n",
       ".xr-var-preview {\n",
       "  grid-column: 4;\n",
       "}\n",
       "\n",
       ".xr-var-name,\n",
       ".xr-var-dims,\n",
       ".xr-var-dtype,\n",
       ".xr-preview,\n",
       ".xr-attrs dt {\n",
       "  white-space: nowrap;\n",
       "  overflow: hidden;\n",
       "  text-overflow: ellipsis;\n",
       "  padding-right: 10px;\n",
       "}\n",
       "\n",
       ".xr-var-name:hover,\n",
       ".xr-var-dims:hover,\n",
       ".xr-var-dtype:hover,\n",
       ".xr-attrs dt:hover {\n",
       "  overflow: visible;\n",
       "  width: auto;\n",
       "  z-index: 1;\n",
       "}\n",
       "\n",
       ".xr-var-attrs,\n",
       ".xr-var-data {\n",
       "  display: none;\n",
       "  background-color: var(--xr-background-color) !important;\n",
       "  padding-bottom: 5px !important;\n",
       "}\n",
       "\n",
       ".xr-var-attrs-in:checked ~ .xr-var-attrs,\n",
       ".xr-var-data-in:checked ~ .xr-var-data {\n",
       "  display: block;\n",
       "}\n",
       "\n",
       ".xr-var-data > table {\n",
       "  float: right;\n",
       "}\n",
       "\n",
       ".xr-var-name span,\n",
       ".xr-var-data,\n",
       ".xr-attrs {\n",
       "  padding-left: 25px !important;\n",
       "}\n",
       "\n",
       ".xr-attrs,\n",
       ".xr-var-attrs,\n",
       ".xr-var-data {\n",
       "  grid-column: 1 / -1;\n",
       "}\n",
       "\n",
       "dl.xr-attrs {\n",
       "  padding: 0;\n",
       "  margin: 0;\n",
       "  display: grid;\n",
       "  grid-template-columns: 125px auto;\n",
       "}\n",
       "\n",
       ".xr-attrs dt,\n",
       ".xr-attrs dd {\n",
       "  padding: 0;\n",
       "  margin: 0;\n",
       "  float: left;\n",
       "  padding-right: 10px;\n",
       "  width: auto;\n",
       "}\n",
       "\n",
       ".xr-attrs dt {\n",
       "  font-weight: normal;\n",
       "  grid-column: 1;\n",
       "}\n",
       "\n",
       ".xr-attrs dt:hover span {\n",
       "  display: inline-block;\n",
       "  background: var(--xr-background-color);\n",
       "  padding-right: 10px;\n",
       "}\n",
       "\n",
       ".xr-attrs dd {\n",
       "  grid-column: 2;\n",
       "  white-space: pre-wrap;\n",
       "  word-break: break-all;\n",
       "}\n",
       "\n",
       ".xr-icon-database,\n",
       ".xr-icon-file-text2 {\n",
       "  display: inline-block;\n",
       "  vertical-align: middle;\n",
       "  width: 1em;\n",
       "  height: 1.5em !important;\n",
       "  stroke-width: 0;\n",
       "  stroke: currentColor;\n",
       "  fill: currentColor;\n",
       "}\n",
       "</style><pre class='xr-text-repr-fallback'>&lt;xarray.Dataset&gt;\n",
       "Dimensions:                                                 (timeseries: 1,\n",
       "                                                             obs: 7241)\n",
       "Coordinates:\n",
       "    latitude                                                (timeseries) float64 ...\n",
       "    longitude                                               (timeseries) float64 ...\n",
       "    time                                                    (obs) datetime64[ns] ...\n",
       "Dimensions without coordinates: timeseries, obs\n",
       "Data variables:\n",
       "    station                                                 (timeseries) object ...\n",
       "    rowSize                                                 (timeseries) int32 ...\n",
       "    z                                                       (obs) float64 0.0...\n",
       "    sea_surface_height_above_sea_level_geoid_mhhw           (obs) float64 0.4...\n",
       "    sea_surface_height_above_sea_level_geoid_mhhw_qc_agg    (obs) float64 1.0...\n",
       "    sea_surface_height_above_sea_level_geoid_mhhw_qc_tests  (obs) float64 2.1...\n",
       "Attributes: (12/54)\n",
       "    cdm_data_type:                 TimeSeries\n",
       "    cdm_timeseries_variables:      station,longitude,latitude\n",
       "    contributor_email:             ,sales@stilltek.com,dugan@aoos.org,feedbac...\n",
       "    contributor_name:              NOAA Alaska-Pacific River Forecast Center ...\n",
       "    contributor_role:              contributor,collaborator,sponsor,processor\n",
       "    contributor_role_vocabulary:   NERC\n",
       "    ...                            ...\n",
       "    station_id:                    100053\n",
       "    summary:                       Timeseries data from &#x27;Kotzebue, Alaska, Wa...\n",
       "    time_coverage_end:             2019-07-10T19:00:00Z\n",
       "    time_coverage_start:           2018-09-05T21:00:00Z\n",
       "    title:                         Kotzebue, Alaska, Water Level\n",
       "    Westernmost_Easting:           -162.566752</pre><div class='xr-wrap' style='display:none'><div class='xr-header'><div class='xr-obj-type'>xarray.Dataset</div></div><ul class='xr-sections'><li class='xr-section-item'><input id='section-bb441042-c50a-416d-9c9b-2a633341ce42' class='xr-section-summary-in' type='checkbox' disabled ><label for='section-bb441042-c50a-416d-9c9b-2a633341ce42' class='xr-section-summary'  title='Expand/collapse section'>Dimensions:</label><div class='xr-section-inline-details'><ul class='xr-dim-list'><li><span>timeseries</span>: 1</li><li><span>obs</span>: 7241</li></ul></div><div class='xr-section-details'></div></li><li class='xr-section-item'><input id='section-9914659b-127c-4f46-9b53-9412ad2f8d11' class='xr-section-summary-in' type='checkbox'  checked><label for='section-9914659b-127c-4f46-9b53-9412ad2f8d11' class='xr-section-summary' >Coordinates: <span>(3)</span></label><div class='xr-section-inline-details'></div><div class='xr-section-details'><ul class='xr-var-list'><li class='xr-var-item'><div class='xr-var-name'><span>latitude</span></div><div class='xr-var-dims'>(timeseries)</div><div class='xr-var-dtype'>float64</div><div class='xr-var-preview xr-preview'>...</div><input id='attrs-da6cdf14-5542-4549-8329-0580c38a9021' class='xr-var-attrs-in' type='checkbox' ><label for='attrs-da6cdf14-5542-4549-8329-0580c38a9021' title='Show/Hide attributes'><svg class='icon xr-icon-file-text2'><use xlink:href='#icon-file-text2'></use></svg></label><input id='data-026a3a31-2bb9-4d91-8208-84833cc9dff8' class='xr-var-data-in' type='checkbox'><label for='data-026a3a31-2bb9-4d91-8208-84833cc9dff8' title='Show/Hide data repr'><svg class='icon xr-icon-database'><use xlink:href='#icon-database'></use></svg></label><div class='xr-var-attrs'><dl class='xr-attrs'><dt><span>_CoordinateAxisType :</span></dt><dd>Lat</dd><dt><span>actual_range :</span></dt><dd>[66.895035 66.895035]</dd><dt><span>axis :</span></dt><dd>Y</dd><dt><span>ioos_category :</span></dt><dd>Location</dd><dt><span>long_name :</span></dt><dd>Latitude</dd><dt><span>standard_name :</span></dt><dd>latitude</dd><dt><span>units :</span></dt><dd>degrees_north</dd></dl></div><div class='xr-var-data'><pre>array([66.895035])</pre></div></li><li class='xr-var-item'><div class='xr-var-name'><span>longitude</span></div><div class='xr-var-dims'>(timeseries)</div><div class='xr-var-dtype'>float64</div><div class='xr-var-preview xr-preview'>...</div><input id='attrs-5fe3137c-b5d8-4be4-aead-7b5e6bcdd16c' class='xr-var-attrs-in' type='checkbox' ><label for='attrs-5fe3137c-b5d8-4be4-aead-7b5e6bcdd16c' title='Show/Hide attributes'><svg class='icon xr-icon-file-text2'><use xlink:href='#icon-file-text2'></use></svg></label><input id='data-4a602396-517e-4822-ab50-480fc5e83b1c' class='xr-var-data-in' type='checkbox'><label for='data-4a602396-517e-4822-ab50-480fc5e83b1c' title='Show/Hide data repr'><svg class='icon xr-icon-database'><use xlink:href='#icon-database'></use></svg></label><div class='xr-var-attrs'><dl class='xr-attrs'><dt><span>_CoordinateAxisType :</span></dt><dd>Lon</dd><dt><span>actual_range :</span></dt><dd>[-162.566752 -162.566752]</dd><dt><span>axis :</span></dt><dd>X</dd><dt><span>ioos_category :</span></dt><dd>Location</dd><dt><span>long_name :</span></dt><dd>Longitude</dd><dt><span>standard_name :</span></dt><dd>longitude</dd><dt><span>units :</span></dt><dd>degrees_east</dd></dl></div><div class='xr-var-data'><pre>array([-162.566752])</pre></div></li><li class='xr-var-item'><div class='xr-var-name'><span>time</span></div><div class='xr-var-dims'>(obs)</div><div class='xr-var-dtype'>datetime64[ns]</div><div class='xr-var-preview xr-preview'>...</div><input id='attrs-4df9ed8b-70dd-4c33-bbb9-6deefe0b78c5' class='xr-var-attrs-in' type='checkbox' ><label for='attrs-4df9ed8b-70dd-4c33-bbb9-6deefe0b78c5' title='Show/Hide attributes'><svg class='icon xr-icon-file-text2'><use xlink:href='#icon-file-text2'></use></svg></label><input id='data-d25ca873-a486-458a-81ad-03065fb31d13' class='xr-var-data-in' type='checkbox'><label for='data-d25ca873-a486-458a-81ad-03065fb31d13' title='Show/Hide data repr'><svg class='icon xr-icon-database'><use xlink:href='#icon-database'></use></svg></label><div class='xr-var-attrs'><dl class='xr-attrs'><dt><span>_ChunkSizes :</span></dt><dd>512</dd><dt><span>_CoordinateAxisType :</span></dt><dd>Time</dd><dt><span>actual_range :</span></dt><dd>[1.5361812e+09 1.5627852e+09]</dd><dt><span>axis :</span></dt><dd>T</dd><dt><span>ioos_category :</span></dt><dd>Time</dd><dt><span>long_name :</span></dt><dd>Time</dd><dt><span>standard_name :</span></dt><dd>time</dd><dt><span>time_origin :</span></dt><dd>01-JAN-1970 00:00:00</dd></dl></div><div class='xr-var-data'><pre>array([&#x27;2018-09-05T21:00:00.000000000&#x27;, &#x27;2018-09-05T22:00:00.000000000&#x27;,\n",
       "       &#x27;2018-09-05T23:00:00.000000000&#x27;, ..., &#x27;2019-07-10T17:00:00.000000000&#x27;,\n",
       "       &#x27;2019-07-10T18:00:00.000000000&#x27;, &#x27;2019-07-10T19:00:00.000000000&#x27;],\n",
       "      dtype=&#x27;datetime64[ns]&#x27;)</pre></div></li></ul></div></li><li class='xr-section-item'><input id='section-1268ba1a-daa6-47ee-b2e7-6ad5333d7b6c' class='xr-section-summary-in' type='checkbox'  checked><label for='section-1268ba1a-daa6-47ee-b2e7-6ad5333d7b6c' class='xr-section-summary' >Data variables: <span>(6)</span></label><div class='xr-section-inline-details'></div><div class='xr-section-details'><ul class='xr-var-list'><li class='xr-var-item'><div class='xr-var-name'><span>station</span></div><div class='xr-var-dims'>(timeseries)</div><div class='xr-var-dtype'>object</div><div class='xr-var-preview xr-preview'>...</div><input id='attrs-22a97f1b-9d21-429d-b0dd-88205924ee9f' class='xr-var-attrs-in' type='checkbox' ><label for='attrs-22a97f1b-9d21-429d-b0dd-88205924ee9f' title='Show/Hide attributes'><svg class='icon xr-icon-file-text2'><use xlink:href='#icon-file-text2'></use></svg></label><input id='data-391b6b67-a912-42e1-b752-9e0408eee1da' class='xr-var-data-in' type='checkbox'><label for='data-391b6b67-a912-42e1-b752-9e0408eee1da' title='Show/Hide data repr'><svg class='icon xr-icon-database'><use xlink:href='#icon-database'></use></svg></label><div class='xr-var-attrs'><dl class='xr-attrs'><dt><span>cf_role :</span></dt><dd>timeseries_id</dd><dt><span>ioos_category :</span></dt><dd>Identifier</dd><dt><span>ioos_code :</span></dt><dd>urn:ioos:station:com.axiomdatascience:100053</dd><dt><span>long_name :</span></dt><dd>Kotzebue, Alaska, Water Level</dd><dt><span>short_name :</span></dt><dd>kotzebue-alaska-water-level</dd><dt><span>type :</span></dt><dd>fixed</dd></dl></div><div class='xr-var-data'><pre>array([&#x27;&#x27;], dtype=object)</pre></div></li><li class='xr-var-item'><div class='xr-var-name'><span>rowSize</span></div><div class='xr-var-dims'>(timeseries)</div><div class='xr-var-dtype'>int32</div><div class='xr-var-preview xr-preview'>...</div><input id='attrs-d9e4cae5-e2b8-4ebd-ac62-19f570c23990' class='xr-var-attrs-in' type='checkbox' ><label for='attrs-d9e4cae5-e2b8-4ebd-ac62-19f570c23990' title='Show/Hide attributes'><svg class='icon xr-icon-file-text2'><use xlink:href='#icon-file-text2'></use></svg></label><input id='data-fc09f869-7ae3-47fe-884f-4f21bd692f20' class='xr-var-data-in' type='checkbox'><label for='data-fc09f869-7ae3-47fe-884f-4f21bd692f20' title='Show/Hide data repr'><svg class='icon xr-icon-database'><use xlink:href='#icon-database'></use></svg></label><div class='xr-var-attrs'><dl class='xr-attrs'><dt><span>ioos_category :</span></dt><dd>Identifier</dd><dt><span>long_name :</span></dt><dd>Number of Observations for this TimeSeries</dd><dt><span>sample_dimension :</span></dt><dd>obs</dd></dl></div><div class='xr-var-data'><pre>array([7241])</pre></div></li><li class='xr-var-item'><div class='xr-var-name'><span>z</span></div><div class='xr-var-dims'>(obs)</div><div class='xr-var-dtype'>float64</div><div class='xr-var-preview xr-preview'>...</div><input id='attrs-d5460266-46cf-4a28-b386-4471a47c517d' class='xr-var-attrs-in' type='checkbox' ><label for='attrs-d5460266-46cf-4a28-b386-4471a47c517d' title='Show/Hide attributes'><svg class='icon xr-icon-file-text2'><use xlink:href='#icon-file-text2'></use></svg></label><input id='data-18eac2a8-151b-465f-807a-f5924357687b' class='xr-var-data-in' type='checkbox'><label for='data-18eac2a8-151b-465f-807a-f5924357687b' title='Show/Hide data repr'><svg class='icon xr-icon-database'><use xlink:href='#icon-database'></use></svg></label><div class='xr-var-attrs'><dl class='xr-attrs'><dt><span>_ChunkSizes :</span></dt><dd>495</dd><dt><span>_CoordinateAxisType :</span></dt><dd>Height</dd><dt><span>_CoordinateZisPositive :</span></dt><dd>up</dd><dt><span>actual_range :</span></dt><dd>[0. 0.]</dd><dt><span>axis :</span></dt><dd>Z</dd><dt><span>ioos_category :</span></dt><dd>Location</dd><dt><span>long_name :</span></dt><dd>Altitude</dd><dt><span>positive :</span></dt><dd>up</dd><dt><span>standard_name :</span></dt><dd>altitude</dd><dt><span>units :</span></dt><dd>m</dd></dl></div><div class='xr-var-data'><pre>array([0., 0., 0., ..., 0., 0., 0.])</pre></div></li><li class='xr-var-item'><div class='xr-var-name'><span>sea_surface_height_above_sea_level_geoid_mhhw</span></div><div class='xr-var-dims'>(obs)</div><div class='xr-var-dtype'>float64</div><div class='xr-var-preview xr-preview'>...</div><input id='attrs-30ec0ce5-e60c-4bb9-8e50-5cd691a8715d' class='xr-var-attrs-in' type='checkbox' ><label for='attrs-30ec0ce5-e60c-4bb9-8e50-5cd691a8715d' title='Show/Hide attributes'><svg class='icon xr-icon-file-text2'><use xlink:href='#icon-file-text2'></use></svg></label><input id='data-4e53fc0f-4d1a-40f2-86ed-f9512b4f354a' class='xr-var-data-in' type='checkbox'><label for='data-4e53fc0f-4d1a-40f2-86ed-f9512b4f354a' title='Show/Hide data repr'><svg class='icon xr-icon-database'><use xlink:href='#icon-database'></use></svg></label><div class='xr-var-attrs'><dl class='xr-attrs'><dt><span>_ChunkSizes :</span></dt><dd>512</dd><dt><span>actual_range :</span></dt><dd>[-2.84988   4.163568]</dd><dt><span>ancillary_variables :</span></dt><dd>sea_surface_height_above_sea_level_geoid_mhhw_qc_agg sea_surface_height_above_sea_level_geoid_mhhw_qc_tests</dd><dt><span>id :</span></dt><dd>1000206</dd><dt><span>ioos_category :</span></dt><dd>Other</dd><dt><span>long_name :</span></dt><dd>Water Level</dd><dt><span>platform :</span></dt><dd>station</dd><dt><span>short_name :</span></dt><dd>sea_surface_height_above_sea_level</dd><dt><span>standard_name :</span></dt><dd>sea_surface_height_above_sea_level</dd><dt><span>standard_name_url :</span></dt><dd>http://mmisw.org/ont/cf/parameter/sea_surface_height_above_sea_level</dd><dt><span>units :</span></dt><dd>m</dd><dt><span>vertical_datum :</span></dt><dd>MHHW</dd></dl></div><div class='xr-var-data'><pre>array([0.4785  , 0.442   , 0.4968  , ..., 0.09144 , 0.082296, 0.054864])</pre></div></li><li class='xr-var-item'><div class='xr-var-name'><span>sea_surface_height_above_sea_level_geoid_mhhw_qc_agg</span></div><div class='xr-var-dims'>(obs)</div><div class='xr-var-dtype'>float64</div><div class='xr-var-preview xr-preview'>...</div><input id='attrs-68d106b3-376d-4ba0-b94c-1f8283559ea1' class='xr-var-attrs-in' type='checkbox' ><label for='attrs-68d106b3-376d-4ba0-b94c-1f8283559ea1' title='Show/Hide attributes'><svg class='icon xr-icon-file-text2'><use xlink:href='#icon-file-text2'></use></svg></label><input id='data-06225a5e-6d66-4d0c-b467-77c5301a0416' class='xr-var-data-in' type='checkbox'><label for='data-06225a5e-6d66-4d0c-b467-77c5301a0416' title='Show/Hide data repr'><svg class='icon xr-icon-database'><use xlink:href='#icon-database'></use></svg></label><div class='xr-var-attrs'><dl class='xr-attrs'><dt><span>_ChunkSizes :</span></dt><dd>4096</dd><dt><span>actual_range :</span></dt><dd>[1 4]</dd><dt><span>flag_meanings :</span></dt><dd>PASS NOT_EVALUATED SUSPECT FAIL MISSING</dd><dt><span>flag_values :</span></dt><dd>[1 2 3 4 9]</dd><dt><span>ioos_category :</span></dt><dd>Other</dd><dt><span>long_name :</span></dt><dd>Water Level QARTOD Aggregate Quality Flag</dd><dt><span>references :</span></dt><dd>https://github.com/ioos/ioos_qc</dd><dt><span>short_name :</span></dt><dd>sea_surface_height_above_sea_level_qc_agg</dd><dt><span>standard_name :</span></dt><dd>aggregate_quality_flag</dd></dl></div><div class='xr-var-data'><pre>array([1., 1., 1., ..., 1., 1., 1.])</pre></div></li><li class='xr-var-item'><div class='xr-var-name'><span>sea_surface_height_above_sea_level_geoid_mhhw_qc_tests</span></div><div class='xr-var-dims'>(obs)</div><div class='xr-var-dtype'>float64</div><div class='xr-var-preview xr-preview'>...</div><input id='attrs-92be767c-befa-4711-bdb1-67c4df245858' class='xr-var-attrs-in' type='checkbox' ><label for='attrs-92be767c-befa-4711-bdb1-67c4df245858' title='Show/Hide attributes'><svg class='icon xr-icon-file-text2'><use xlink:href='#icon-file-text2'></use></svg></label><input id='data-31f0c0a2-b616-4e0f-adcc-c08a3f80d933' class='xr-var-data-in' type='checkbox'><label for='data-31f0c0a2-b616-4e0f-adcc-c08a3f80d933' title='Show/Hide data repr'><svg class='icon xr-icon-database'><use xlink:href='#icon-database'></use></svg></label><div class='xr-var-attrs'><dl class='xr-attrs'><dt><span>_ChunkSizes :</span></dt><dd>512</dd><dt><span>comment :</span></dt><dd>11-character string with results of individual QARTOD tests. 1: Gap Test, 2: Syntax Test, 3: Location Test, 4: Gross Range Test, 5: Climatology Test, 6: Spike Test, 7: Rate of Change Test, 8: Flat-line Test, 9: Multi-variate Test, 10: Attenuated Signal Test, 11: Neighbor Test</dd><dt><span>flag_meanings :</span></dt><dd>PASS NOT_EVALUATED SUSPECT FAIL MISSING</dd><dt><span>flag_values :</span></dt><dd>[1 2 3 4 9]</dd><dt><span>ioos_category :</span></dt><dd>Other</dd><dt><span>long_name :</span></dt><dd>Water Level QARTOD Individual Tests</dd><dt><span>references :</span></dt><dd>https://github.com/ioos/ioos_qc</dd><dt><span>short_name :</span></dt><dd>sea_surface_height_above_sea_level_qc_tests</dd><dt><span>standard_name :</span></dt><dd>sea_surface_height_above_sea_level quality_flag</dd></dl></div><div class='xr-var-data'><pre>array([2.147484e+09, 2.147484e+09, 2.147484e+09, ..., 2.147484e+09,\n",
       "       2.147484e+09, 2.147484e+09])</pre></div></li></ul></div></li><li class='xr-section-item'><input id='section-eba77ad8-802d-4a4d-8db2-4ff776fbda35' class='xr-section-summary-in' type='checkbox'  ><label for='section-eba77ad8-802d-4a4d-8db2-4ff776fbda35' class='xr-section-summary' >Attributes: <span>(54)</span></label><div class='xr-section-inline-details'></div><div class='xr-section-details'><dl class='xr-attrs'><dt><span>cdm_data_type :</span></dt><dd>TimeSeries</dd><dt><span>cdm_timeseries_variables :</span></dt><dd>station,longitude,latitude</dd><dt><span>contributor_email :</span></dt><dd>,sales@stilltek.com,dugan@aoos.org,feedback@axiomdatascience.com</dd><dt><span>contributor_name :</span></dt><dd>NOAA Alaska-Pacific River Forecast Center (APRFC),Stillwater Technologies LLC,Alaska Ocean Observing System (AOOS),Axiom Data Science</dd><dt><span>contributor_role :</span></dt><dd>contributor,collaborator,sponsor,processor</dd><dt><span>contributor_role_vocabulary :</span></dt><dd>NERC</dd><dt><span>contributor_url :</span></dt><dd>https://www.weather.gov/aprfc/,https://stilltek.com,http://www.aoos.org/,https://www.axiomdatascience.com</dd><dt><span>Conventions :</span></dt><dd>IOOS-1.2, CF-1.6, ACDD-1.3, NCCSV-1.0</dd><dt><span>creator_country :</span></dt><dd>USA</dd><dt><span>creator_email :</span></dt><dd>dggspubs@alaska.gov</dd><dt><span>creator_institution :</span></dt><dd>Alaska Division of Geological &amp; Geophysical Surveys (AK-DGGS)</dd><dt><span>creator_name :</span></dt><dd>Alaska Division of Geological &amp; Geophysical Surveys (AK-DGGS)</dd><dt><span>creator_sector :</span></dt><dd>gov_state</dd><dt><span>creator_type :</span></dt><dd>institution</dd><dt><span>creator_url :</span></dt><dd>http://dggs.alaska.gov/</dd><dt><span>defaultDataQuery :</span></dt><dd>sea_surface_height_above_sea_level_geoid_mhhw,z,time,sea_surface_height_above_sea_level_geoid_mhhw_qc_agg&amp;time&gt;=max(time)-3days</dd><dt><span>Easternmost_Easting :</span></dt><dd>-162.566752</dd><dt><span>featureType :</span></dt><dd>TimeSeries</dd><dt><span>geospatial_lat_max :</span></dt><dd>66.895035</dd><dt><span>geospatial_lat_min :</span></dt><dd>66.895035</dd><dt><span>geospatial_lat_units :</span></dt><dd>degrees_north</dd><dt><span>geospatial_lon_max :</span></dt><dd>-162.566752</dd><dt><span>geospatial_lon_min :</span></dt><dd>-162.566752</dd><dt><span>geospatial_lon_units :</span></dt><dd>degrees_east</dd><dt><span>geospatial_vertical_positive :</span></dt><dd>up</dd><dt><span>geospatial_vertical_units :</span></dt><dd>m</dd><dt><span>history :</span></dt><dd>Downloaded from Stillwater Technologies LLC at https://stilltek.com/cgi-bin/qrySBD.php?site=ktzb\n",
       "2022-05-25T14:34:05Z https://stilltek.com/cgi-bin/qrySBD.php?site=ktzb\n",
       "2022-05-25T14:34:05Z http://erddap.aoos.org/erddap/tabledap/kotzebue-alaska-water-level.ncCF?&amp;time%3E=1536181200.0&amp;time%3C=1562785200.0</dd><dt><span>id :</span></dt><dd>100053</dd><dt><span>infoUrl :</span></dt><dd>https://portal.aoos.org/#metadata/100053/station</dd><dt><span>institution :</span></dt><dd>Alaska Division of Geological &amp; Geophysical Surveys (AK-DGGS)</dd><dt><span>license :</span></dt><dd>The data may be used and redistributed for free but is not intended\n",
       "for legal use, since it may contain inaccuracies. Neither the data\n",
       "Contributor, ERD, NOAA, nor the United States Government, nor any\n",
       "of their employees or contractors, makes any warranty, express or\n",
       "implied, including warranties of merchantability and fitness for a\n",
       "particular purpose, or assumes any legal liability for the accuracy,\n",
       "completeness, or usefulness, of this information.</dd><dt><span>naming_authority :</span></dt><dd>com.axiomdatascience</dd><dt><span>Northernmost_Northing :</span></dt><dd>66.895035</dd><dt><span>platform :</span></dt><dd>fixed</dd><dt><span>platform_name :</span></dt><dd>Kotzebue, Alaska, Water Level</dd><dt><span>platform_vocabulary :</span></dt><dd>http://mmisw.org/ont/ioos/platform</dd><dt><span>processing_level :</span></dt><dd>Level 2</dd><dt><span>publisher_country :</span></dt><dd>USA</dd><dt><span>publisher_email :</span></dt><dd>sales@stilltek.com</dd><dt><span>publisher_institution :</span></dt><dd>Stillwater Technologies LLC</dd><dt><span>publisher_name :</span></dt><dd>Stillwater Technologies LLC</dd><dt><span>publisher_sector :</span></dt><dd>industry</dd><dt><span>publisher_type :</span></dt><dd>institution</dd><dt><span>publisher_url :</span></dt><dd>https://stilltek.com</dd><dt><span>references :</span></dt><dd>http://dggs.alaska.gov/pubs/staff/jroverbeck,https://stilltek.com/cgi-bin/qrySBD.php?site=ktzb,https://water.weather.gov/ahps2/hydrograph.php?wfo=pafg2&amp;gage=kzta2,https://stilltek.com/cgi-bin/qrySBD.php?site=ktzb,https://github.com/ioos/ioos_qc</dd><dt><span>sourceUrl :</span></dt><dd>https://stilltek.com/cgi-bin/qrySBD.php?site=ktzb</dd><dt><span>Southernmost_Northing :</span></dt><dd>66.895035</dd><dt><span>standard_name_vocabulary :</span></dt><dd>CF Standard Name Table v72</dd><dt><span>station_id :</span></dt><dd>100053</dd><dt><span>summary :</span></dt><dd>Timeseries data from &#x27;Kotzebue, Alaska, Water Level&#x27; (kotzebue-alaska-water-level)</dd><dt><span>time_coverage_end :</span></dt><dd>2019-07-10T19:00:00Z</dd><dt><span>time_coverage_start :</span></dt><dd>2018-09-05T21:00:00Z</dd><dt><span>title :</span></dt><dd>Kotzebue, Alaska, Water Level</dd><dt><span>Westernmost_Easting :</span></dt><dd>-162.566752</dd></dl></div></li></ul></div></div>"
      ],
      "text/plain": [
       "<xarray.Dataset>\n",
       "Dimensions:                                                 (timeseries: 1,\n",
       "                                                             obs: 7241)\n",
       "Coordinates:\n",
       "    latitude                                                (timeseries) float64 ...\n",
       "    longitude                                               (timeseries) float64 ...\n",
       "    time                                                    (obs) datetime64[ns] ...\n",
       "Dimensions without coordinates: timeseries, obs\n",
       "Data variables:\n",
       "    station                                                 (timeseries) object ...\n",
       "    rowSize                                                 (timeseries) int32 ...\n",
       "    z                                                       (obs) float64 ...\n",
       "    sea_surface_height_above_sea_level_geoid_mhhw           (obs) float64 ...\n",
       "    sea_surface_height_above_sea_level_geoid_mhhw_qc_agg    (obs) float64 ...\n",
       "    sea_surface_height_above_sea_level_geoid_mhhw_qc_tests  (obs) float64 ...\n",
       "Attributes: (12/54)\n",
       "    cdm_data_type:                 TimeSeries\n",
       "    cdm_timeseries_variables:      station,longitude,latitude\n",
       "    contributor_email:             ,sales@stilltek.com,dugan@aoos.org,feedbac...\n",
       "    contributor_name:              NOAA Alaska-Pacific River Forecast Center ...\n",
       "    contributor_role:              contributor,collaborator,sponsor,processor\n",
       "    contributor_role_vocabulary:   NERC\n",
       "    ...                            ...\n",
       "    station_id:                    100053\n",
       "    summary:                       Timeseries data from 'Kotzebue, Alaska, Wa...\n",
       "    time_coverage_end:             2019-07-10T19:00:00Z\n",
       "    time_coverage_start:           2018-09-05T21:00:00Z\n",
       "    title:                         Kotzebue, Alaska, Water Level\n",
       "    Westernmost_Easting:           -162.566752"
      ]
     },
     "execution_count": 3,
     "metadata": {},
     "output_type": "execute_result"
    }
   ],
   "source": [
    "import cf_xarray\n",
    "\n",
    "data = e.to_xarray()\n",
    "\n",
    "data"
   ]
  },
  {
   "cell_type": "code",
   "execution_count": 4,
   "metadata": {
    "slideshow": {
     "slide_type": "subslide"
    }
   },
   "outputs": [
    {
     "data": {
      "text/plain": [
       "Coordinates:\n",
       "- CF Axes:   X: ['longitude']\n",
       "             Y: ['latitude']\n",
       "             T: ['time']\n",
       "             Z: n/a\n",
       "\n",
       "- CF Coordinates:   longitude: ['longitude']\n",
       "                    latitude: ['latitude']\n",
       "                    time: ['time']\n",
       "                    vertical: n/a\n",
       "\n",
       "- Cell Measures:   area, volume: n/a\n",
       "\n",
       "- Standard Names:   latitude: ['latitude']\n",
       "                    longitude: ['longitude']\n",
       "                    time: ['time']\n",
       "\n",
       "- Bounds:   n/a\n",
       "\n",
       "Data Variables:\n",
       "- Cell Measures:   area, volume: n/a\n",
       "\n",
       "- Standard Names:   aggregate_quality_flag: ['sea_surface_height_above_sea_level_geoid_mhhw_qc_agg']\n",
       "                    altitude: ['z']\n",
       "                    sea_surface_height_above_sea_level: ['sea_surface_height_above_sea_level_geoid_mhhw']\n",
       "                    sea_surface_height_above_sea_level quality_flag: ['sea_surface_height_above_sea_level_geoid_mhhw_qc_tests']\n",
       "\n",
       "- Bounds:   n/a"
      ]
     },
     "execution_count": 4,
     "metadata": {},
     "output_type": "execute_result"
    }
   ],
   "source": [
    "data.cf"
   ]
  },
  {
   "cell_type": "code",
   "execution_count": 5,
   "metadata": {
    "slideshow": {
     "slide_type": "subslide"
    }
   },
   "outputs": [
    {
     "data": {
      "text/plain": [
       "{'X': ['longitude'], 'Y': ['latitude'], 'T': ['time']}"
      ]
     },
     "execution_count": 5,
     "metadata": {},
     "output_type": "execute_result"
    }
   ],
   "source": [
    "data.cf.axes"
   ]
  },
  {
   "cell_type": "code",
   "execution_count": 6,
   "metadata": {
    "slideshow": {
     "slide_type": "subslide"
    }
   },
   "outputs": [
    {
     "data": {
      "text/plain": [
       "{'longitude': ['longitude'], 'latitude': ['latitude'], 'time': ['time']}"
      ]
     },
     "execution_count": 6,
     "metadata": {},
     "output_type": "execute_result"
    }
   ],
   "source": [
    "data.cf.coordinates"
   ]
  },
  {
   "cell_type": "code",
   "execution_count": 7,
   "metadata": {
    "slideshow": {
     "slide_type": "subslide"
    }
   },
   "outputs": [
    {
     "data": {
      "text/plain": [
       "{'latitude': ['latitude'],\n",
       " 'longitude': ['longitude'],\n",
       " 'time': ['time'],\n",
       " 'altitude': ['z'],\n",
       " 'sea_surface_height_above_sea_level': ['sea_surface_height_above_sea_level_geoid_mhhw'],\n",
       " 'aggregate_quality_flag': ['sea_surface_height_above_sea_level_geoid_mhhw_qc_agg'],\n",
       " 'sea_surface_height_above_sea_level quality_flag': ['sea_surface_height_above_sea_level_geoid_mhhw_qc_tests']}"
      ]
     },
     "execution_count": 7,
     "metadata": {},
     "output_type": "execute_result"
    }
   ],
   "source": [
    "data.cf.standard_names"
   ]
  },
  {
   "cell_type": "markdown",
   "metadata": {
    "slideshow": {
     "slide_type": "slide"
    }
   },
   "source": [
    "## Let's plot the raw data"
   ]
  },
  {
   "cell_type": "code",
   "execution_count": 8,
   "metadata": {
    "slideshow": {
     "slide_type": "subslide"
    }
   },
   "outputs": [
    {
     "data": {
      "image/png": "[encoded data removed]",
      "text/plain": [
       "<Figure size 1080x270 with 1 Axes>"
      ]
     },
     "metadata": {
      "needs_background": "light"
     },
     "output_type": "display_data"
    }
   ],
   "source": [
    "import matplotlib.pyplot as plt\n",
    "\n",
    "fig, ax = plt.subplots(figsize=(15, 3.75))\n",
    "\n",
    "data.cf.plot.scatter('time','sea_surface_height_above_sea_level', ax=ax, s=5)\n",
    "\n",
    "ax.grid(True)"
   ]
  },
  {
   "cell_type": "markdown",
   "metadata": {
    "slideshow": {
     "slide_type": "slide"
    }
   },
   "source": [
    "# Build the QC configuration\n",
    "\n",
    "Below we create a simple Quality Assurance/Quality Control (QA/QC) configuration that will be used as input for ``ioos_qc``. All the interval values are in the same units as the data.\n",
    "\n",
    "For more information on the tests and recommended values for QA/QC check the documentation of each test and its inputs: \n",
    "https://ioos.github.io/ioos_qc/api/ioos_qc.html#module-ioos_qc.qartod\n",
    "\n",
    "[Manual for Real-Time Quality Control of Water Level Data](https://cdn.ioos.noaa.gov/media/2021/04/QARTOD_WaterLevelManual_Update_V2.1_Final.pdf)"
   ]
  },
  {
   "cell_type": "code",
   "execution_count": 9,
   "metadata": {
    "slideshow": {
     "slide_type": "subslide"
    }
   },
   "outputs": [],
   "source": [
    "qc_config = {\n",
    "    \"qartod\": {\n",
    "        \n",
    "      \"gross_range_test\": {\n",
    "            \"fail_span\":    [-10, 10],\n",
    "            \"suspect_span\": [ -2,  3]\n",
    "      },\n",
    "        \n",
    "      \"flat_line_test\": {\n",
    "            \"tolerance\":         0.001,\n",
    "            \"suspect_threshold\": 10800,\n",
    "            \"fail_threshold\":    21600\n",
    "      },\n",
    "        \n",
    "      \"spike_test\": {\n",
    "            \"suspect_threshold\": 0.8,\n",
    "            \"fail_threshold\":      3,\n",
    "      }\n",
    "    }\n",
    "}"
   ]
  },
  {
   "cell_type": "code",
   "execution_count": 10,
   "metadata": {
    "slideshow": {
     "slide_type": "subslide"
    }
   },
   "outputs": [
    {
     "name": "stdout",
     "output_type": "stream",
     "text": [
      "{\n",
      "  \"qartod\": {\n",
      "    \"gross_range_test\": {\n",
      "      \"fail_span\": [\n",
      "        -10,\n",
      "        10\n",
      "      ],\n",
      "      \"suspect_span\": [\n",
      "        -2,\n",
      "        3\n",
      "      ]\n",
      "    },\n",
      "    \"flat_line_test\": {\n",
      "      \"tolerance\": 0.001,\n",
      "      \"suspect_threshold\": 10800,\n",
      "      \"fail_threshold\": 21600\n",
      "    },\n",
      "    \"spike_test\": {\n",
      "      \"suspect_threshold\": 0.8,\n",
      "      \"fail_threshold\": 3\n",
      "    }\n",
      "  }\n",
      "}\n"
     ]
    }
   ],
   "source": [
    "nice_print(qc_config)"
   ]
  },
  {
   "cell_type": "markdown",
   "metadata": {
    "slideshow": {
     "slide_type": "notes"
    }
   },
   "source": [
    "For `flat_line_test`:\n",
    "\n",
    "* 10800 seconds = 3 hours\n",
    "* 21600 seconds = 6 hours"
   ]
  },
  {
   "cell_type": "markdown",
   "metadata": {
    "slideshow": {
     "slide_type": "slide"
    }
   },
   "source": [
    "# Run the QC tests with the supplied configuration"
   ]
  },
  {
   "cell_type": "code",
   "execution_count": 11,
   "metadata": {},
   "outputs": [
    {
     "data": {
      "text/plain": [
       "<bound method CFAccessor.describe of Coordinates:\n",
       "- CF Axes:   X: ['longitude']\n",
       "             Y: ['latitude']\n",
       "             T: ['time']\n",
       "             Z: n/a\n",
       "\n",
       "- CF Coordinates:   longitude: ['longitude']\n",
       "                    latitude: ['latitude']\n",
       "                    time: ['time']\n",
       "                    vertical: n/a\n",
       "\n",
       "- Cell Measures:   area, volume: n/a\n",
       "\n",
       "- Standard Names:   latitude: ['latitude']\n",
       "                    longitude: ['longitude']\n",
       "                    time: ['time']\n",
       "\n",
       "- Bounds:   n/a\n",
       "\n",
       "Data Variables:\n",
       "- Cell Measures:   area, volume: n/a\n",
       "\n",
       "- Standard Names:   aggregate_quality_flag: ['sea_surface_height_above_sea_level_geoid_mhhw_qc_agg']\n",
       "                    altitude: ['z']\n",
       "                    sea_surface_height_above_sea_level: ['sea_surface_height_above_sea_level_geoid_mhhw']\n",
       "                    sea_surface_height_above_sea_level quality_flag: ['sea_surface_height_above_sea_level_geoid_mhhw_qc_tests']\n",
       "\n",
       "- Bounds:   n/a\n",
       ">"
      ]
     },
     "execution_count": 11,
     "metadata": {},
     "output_type": "execute_result"
    }
   ],
   "source": [
    "data.cf.describe"
   ]
  },
  {
   "cell_type": "code",
   "execution_count": 12,
   "metadata": {
    "slideshow": {
     "slide_type": "subslide"
    }
   },
   "outputs": [
    {
     "name": "stdout",
     "output_type": "stream",
     "text": [
      "{\n",
      "  \"gross_range_test\": \"[1 1 1 ... 1 1 1]\",\n",
      "  \"flat_line_test\": \"[1 1 1 ... 1 1 1]\",\n",
      "  \"spike_test\": \"[2 1 1 ... 1 1 2]\"\n",
      "}\n"
     ]
    }
   ],
   "source": [
    "from ioos_qc.config import QcConfig\n",
    "\n",
    "qc = QcConfig(qc_config)\n",
    "\n",
    "variable_name = data.cf.standard_names[\"sea_surface_height_above_sea_level\"][0]\n",
    "\n",
    "qc_results =  qc.run(\n",
    "    inp=data[variable_name],\n",
    "    tinp=data.cf[\"time\"],\n",
    ")\n",
    "\n",
    "nice_print(qc_results['qartod'])"
   ]
  },
  {
   "cell_type": "markdown",
   "metadata": {
    "slideshow": {
     "slide_type": "slide"
    }
   },
   "source": [
    "The results are returned in a dictionary format, similar to the input configuration, with a mask for each test. The results range from 1 to 4 meaning:\n",
    "\n",
    "**flag** | **meaning** \n",
    "---------:|:------------\n",
    " 1 | data passed the QA/QC \n",
    " 2 | did not run on this data point \n",
    " 3 | flag as suspect \n",
    " 4 | flag as failed "
   ]
  },
  {
   "cell_type": "code",
   "execution_count": 13,
   "metadata": {
    "slideshow": {
     "slide_type": "skip"
    }
   },
   "outputs": [],
   "source": [
    "%matplotlib inline\n",
    "\n",
    "import numpy as np\n",
    "\n",
    "def plot_results(data, variable_name, results, title, test_name):\n",
    "    time = data.cf[\"time\"]\n",
    "    obs = data[variable_name]\n",
    "    qc_test = results[\"qartod\"][test_name]\n",
    "\n",
    "    qc_pass = np.ma.masked_where(qc_test != 1, obs)\n",
    "    qc_notrun = np.ma.masked_where(qc_test != 2, obs)\n",
    "    qc_suspect = np.ma.masked_where(qc_test != 3, obs)\n",
    "    qc_fail = np.ma.masked_where(qc_test != 4, obs)\n",
    "    \n",
    "    fig, ax = plt.subplots(figsize=(15, 3.75))\n",
    "    fig.set_title = f\"{test_name}: {title}\"\n",
    "    \n",
    "    ax.set_xlabel(f\"{time.long_name}\")\n",
    "    ax.set_ylabel(f\"{data[variable_name].long_name} [{data[variable_name].units}]\")\n",
    "\n",
    "    kw = {\"marker\": \"o\", \"linestyle\": \"none\"}\n",
    "    ax.plot(time, obs,  label=\"obs\", color=\"#A6CEE3\")\n",
    "    ax.plot(time, qc_notrun, markersize=2, label=\"qc not run\", color=\"gray\", alpha=0.2, **kw)\n",
    "    ax.plot(time, qc_pass, markersize=4, label=\"qc pass\", color=\"green\", alpha=0.5, **kw)\n",
    "    ax.plot(time, qc_suspect, markersize=4, label=\"qc suspect\", color=\"orange\", alpha=0.7, **kw)\n",
    "    ax.plot(time, qc_fail, markersize=6, label=\"qc fail\", color=\"red\", alpha=1.0, **kw)\n",
    "    ax.grid(True)\n",
    "\n",
    "title = \"Water Level [MHHW] [m] : Kotzebue, AK\""
   ]
  },
  {
   "cell_type": "markdown",
   "metadata": {
    "slideshow": {
     "slide_type": "slide"
    }
   },
   "source": [
    "## Let's look at the `gross_range` test results\n",
    "The gross range test test should fail data outside the $\\pm$ 10 range and suspect data below -2, and greater than 3. As one can easily see all the major spikes are flagged as expected."
   ]
  },
  {
   "cell_type": "code",
   "execution_count": 14,
   "metadata": {
    "slideshow": {
     "slide_type": "subslide"
    }
   },
   "outputs": [
    {
     "data": {
      "image/png": "[encoded data removed]",
      "text/plain": [
       "<Figure size 1080x270 with 1 Axes>"
      ]
     },
     "metadata": {
      "needs_background": "light"
     },
     "output_type": "display_data"
    }
   ],
   "source": [
    "plot_results(\n",
    "    data,\n",
    "    variable_name,\n",
    "    qc_results,\n",
    "    title,\n",
    "    \"gross_range_test\"\n",
    ")"
   ]
  },
  {
   "cell_type": "code",
   "execution_count": 15,
   "metadata": {
    "slideshow": {
     "slide_type": "fragment"
    }
   },
   "outputs": [
    {
     "data": {
      "text/plain": [
       "{'fail_span': [-10, 10], 'suspect_span': [-2, 3]}"
      ]
     },
     "execution_count": 15,
     "metadata": {},
     "output_type": "execute_result"
    }
   ],
   "source": [
    "qc_config['qartod']['gross_range_test']"
   ]
  },
  {
   "cell_type": "markdown",
   "metadata": {
    "slideshow": {
     "slide_type": "slide"
    }
   },
   "source": [
    "## Let's look at the `spike` test results\n",
    "\n",
    "An actual spike test, based on a data increase threshold, flags similar spikes to the gross range test but also indetifies other suspect unusual increases in the series."
   ]
  },
  {
   "cell_type": "code",
   "execution_count": 16,
   "metadata": {
    "scrolled": false,
    "slideshow": {
     "slide_type": "subslide"
    }
   },
   "outputs": [
    {
     "data": {
      "image/png": "[encoded data removed]",
      "text/plain": [
       "<Figure size 1080x270 with 1 Axes>"
      ]
     },
     "metadata": {
      "needs_background": "light"
     },
     "output_type": "display_data"
    }
   ],
   "source": [
    "plot_results(\n",
    "    data,\n",
    "    variable_name,\n",
    "    qc_results,\n",
    "    title,\n",
    "    \"spike_test\"\n",
    ")"
   ]
  },
  {
   "cell_type": "code",
   "execution_count": 17,
   "metadata": {
    "slideshow": {
     "slide_type": "fragment"
    }
   },
   "outputs": [
    {
     "data": {
      "text/plain": [
       "{'suspect_threshold': 0.8, 'fail_threshold': 3}"
      ]
     },
     "execution_count": 17,
     "metadata": {},
     "output_type": "execute_result"
    }
   ],
   "source": [
    "qc_config['qartod']['spike_test']"
   ]
  },
  {
   "cell_type": "markdown",
   "metadata": {
    "slideshow": {
     "slide_type": "slide"
    }
   },
   "source": [
    "## Let's look at the `flat_line` test results\n",
    "\n",
    "The flat line test identifies issues with the data where values are \"stuck.\"\n",
    "\n",
    "`ioos_qc` succefully identified a huge portion of the data where that happens and flagged a smaller one as suspect. (Zoom in the red point to the left to see this one.)"
   ]
  },
  {
   "cell_type": "code",
   "execution_count": 18,
   "metadata": {
    "slideshow": {
     "slide_type": "subslide"
    }
   },
   "outputs": [
    {
     "data": {
      "image/png": "[encoded data removed]",
      "text/plain": [
       "<Figure size 1080x270 with 1 Axes>"
      ]
     },
     "metadata": {
      "needs_background": "light"
     },
     "output_type": "display_data"
    }
   ],
   "source": [
    "plot_results(\n",
    "    data,\n",
    "    variable_name,\n",
    "    qc_results,\n",
    "    title,\n",
    "    \"flat_line_test\"\n",
    ")"
   ]
  },
  {
   "cell_type": "code",
   "execution_count": 19,
   "metadata": {
    "slideshow": {
     "slide_type": "fragment"
    }
   },
   "outputs": [
    {
     "data": {
      "text/plain": [
       "{'tolerance': 0.001, 'suspect_threshold': 10800, 'fail_threshold': 21600}"
      ]
     },
     "execution_count": 19,
     "metadata": {},
     "output_type": "execute_result"
    }
   ],
   "source": [
    "qc_config['qartod']['flat_line_test']"
   ]
  },
  {
   "cell_type": "markdown",
   "metadata": {
    "slideshow": {
     "slide_type": "notes"
    }
   },
   "source": [
    "This notebook was adapt from Jessica Austin and Kyle Wilcox's [original ioos_qc examples](https://github.com/ioos/ioos_qc/blob/b34b3762d659362fb3af11f52d8905d18cd6ec7b/docs/source/examples/QartodTestExample_WaterLevel.ipynb). Please [see the ``ioos_qc`` documentation](https://ioos.github.io/ioos_qc/) for more examples."
   ]
  }
 ],
 "metadata": {
  "celltoolbar": "Slideshow",
  "kernelspec": {
   "display_name": "Python 3 (ipykernel)",
   "language": "python",
   "name": "python3"
  },
  "language_info": {
   "codemirror_mode": {
    "name": "ipython",
    "version": 3
   },
   "file_extension": ".py",
   "mimetype": "text/x-python",
   "name": "python",
   "nbconvert_exporter": "python",
   "pygments_lexer": "ipython3",
   "version": "3.10.4"
  }
 },
 "nbformat": 4,
 "nbformat_minor": 2
}
